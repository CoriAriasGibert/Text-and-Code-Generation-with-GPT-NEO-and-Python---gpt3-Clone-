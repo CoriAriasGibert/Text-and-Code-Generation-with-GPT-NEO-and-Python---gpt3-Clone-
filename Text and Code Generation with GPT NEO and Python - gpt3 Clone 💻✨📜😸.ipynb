{
 "cells": [
  {
   "cell_type": "markdown",
   "id": "3a68c9d5",
   "metadata": {},
   "source": [
    "<h1> 1 Install and Import Dependencies  </h1>"
   ]
  },
  {
   "cell_type": "code",
   "execution_count": 1,
   "id": "f81b313e",
   "metadata": {
    "scrolled": true
   },
   "outputs": [
    {
     "name": "stdout",
     "output_type": "stream",
     "text": [
      "Requirement already satisfied: torch in ./opt/anaconda3/lib/python3.8/site-packages (1.9.0)\r\n",
      "Requirement already satisfied: torchvision in ./opt/anaconda3/lib/python3.8/site-packages (0.10.0)\r\n",
      "Requirement already satisfied: torchaudio in ./opt/anaconda3/lib/python3.8/site-packages (0.9.0)\r\n",
      "Requirement already satisfied: typing-extensions in ./opt/anaconda3/lib/python3.8/site-packages (from torch) (3.7.4.3)\r\n",
      "Requirement already satisfied: numpy in ./opt/anaconda3/lib/python3.8/site-packages (from torchvision) (1.20.1)\r\n",
      "Requirement already satisfied: pillow>=5.3.0 in ./opt/anaconda3/lib/python3.8/site-packages (from torchvision) (8.2.0)\r\n"
     ]
    }
   ],
   "source": [
    "!pip3 install torch torchvision torchaudio"
   ]
  },
  {
   "cell_type": "code",
   "execution_count": 2,
   "id": "a28a8129",
   "metadata": {
    "scrolled": true
   },
   "outputs": [
    {
     "name": "stdout",
     "output_type": "stream",
     "text": [
      "Requirement already satisfied: transformers in ./opt/anaconda3/lib/python3.8/site-packages (4.8.2)\n",
      "Requirement already satisfied: huggingface-hub==0.0.12 in ./opt/anaconda3/lib/python3.8/site-packages (from transformers) (0.0.12)\n",
      "Requirement already satisfied: packaging in ./opt/anaconda3/lib/python3.8/site-packages (from transformers) (20.9)\n",
      "Requirement already satisfied: regex!=2019.12.17 in ./opt/anaconda3/lib/python3.8/site-packages (from transformers) (2021.4.4)\n",
      "Requirement already satisfied: numpy>=1.17 in ./opt/anaconda3/lib/python3.8/site-packages (from transformers) (1.20.1)\n",
      "Requirement already satisfied: sacremoses in ./opt/anaconda3/lib/python3.8/site-packages (from transformers) (0.0.45)\n",
      "Requirement already satisfied: tqdm>=4.27 in ./opt/anaconda3/lib/python3.8/site-packages (from transformers) (4.59.0)\n",
      "Requirement already satisfied: filelock in ./opt/anaconda3/lib/python3.8/site-packages (from transformers) (3.0.12)\n",
      "Requirement already satisfied: requests in ./opt/anaconda3/lib/python3.8/site-packages (from transformers) (2.25.1)\n",
      "Requirement already satisfied: tokenizers<0.11,>=0.10.1 in ./opt/anaconda3/lib/python3.8/site-packages (from transformers) (0.10.3)\n",
      "Requirement already satisfied: pyyaml in ./opt/anaconda3/lib/python3.8/site-packages (from transformers) (5.4.1)\n",
      "Requirement already satisfied: typing-extensions in ./opt/anaconda3/lib/python3.8/site-packages (from huggingface-hub==0.0.12->transformers) (3.7.4.3)\n",
      "Requirement already satisfied: pyparsing>=2.0.2 in ./opt/anaconda3/lib/python3.8/site-packages (from packaging->transformers) (2.4.7)\n",
      "Requirement already satisfied: urllib3<1.27,>=1.21.1 in ./opt/anaconda3/lib/python3.8/site-packages (from requests->transformers) (1.26.4)\n",
      "Requirement already satisfied: idna<3,>=2.5 in ./opt/anaconda3/lib/python3.8/site-packages (from requests->transformers) (2.10)\n",
      "Requirement already satisfied: chardet<5,>=3.0.2 in ./opt/anaconda3/lib/python3.8/site-packages (from requests->transformers) (4.0.0)\n",
      "Requirement already satisfied: certifi>=2017.4.17 in ./opt/anaconda3/lib/python3.8/site-packages (from requests->transformers) (2020.12.5)\n",
      "Requirement already satisfied: joblib in ./opt/anaconda3/lib/python3.8/site-packages (from sacremoses->transformers) (1.0.1)\n",
      "Requirement already satisfied: click in ./opt/anaconda3/lib/python3.8/site-packages (from sacremoses->transformers) (7.1.2)\n",
      "Requirement already satisfied: six in ./opt/anaconda3/lib/python3.8/site-packages (from sacremoses->transformers) (1.15.0)\n"
     ]
    }
   ],
   "source": [
    "!pip install transformers"
   ]
  },
  {
   "cell_type": "markdown",
   "id": "961dfb84",
   "metadata": {},
   "source": [
    "<h1> Generate text in 4 lines !!! 💻📜🚀 </h1>"
   ]
  },
  {
   "cell_type": "code",
   "execution_count": 3,
   "id": "f6e51033",
   "metadata": {},
   "outputs": [],
   "source": [
    "from transformers import pipeline # First line"
   ]
  },
  {
   "cell_type": "markdown",
   "id": "5b9c7af6",
   "metadata": {},
   "source": [
    "## Setup Generator"
   ]
  },
  {
   "cell_type": "code",
   "execution_count": 4,
   "id": "fa357834",
   "metadata": {
    "scrolled": false
   },
   "outputs": [],
   "source": [
    "generator = pipeline ('text-generation', model='EleutherAI/gpt-neo-2.7B') # Second line"
   ]
  },
  {
   "cell_type": "markdown",
   "id": "3f256b51",
   "metadata": {},
   "source": [
    "## Generate text using Prompt 😸❤️"
   ]
  },
  {
   "cell_type": "code",
   "execution_count": 5,
   "id": "f8ac5595",
   "metadata": {},
   "outputs": [],
   "source": [
    "prompt= \"What is art ?\" # Third line"
   ]
  },
  {
   "cell_type": "code",
   "execution_count": 7,
   "id": "7a166688",
   "metadata": {
    "scrolled": false
   },
   "outputs": [
    {
     "name": "stderr",
     "output_type": "stream",
     "text": [
      "Setting `pad_token_id` to `eos_token_id`:50256 for open-end generation.\n"
     ]
    }
   ],
   "source": [
    "res =generator(prompt, max_length=100, do_sample=True, temperature= 0.9) # Fourth line"
   ]
  },
  {
   "cell_type": "code",
   "execution_count": 8,
   "id": "b3ec6dc3",
   "metadata": {},
   "outputs": [
    {
     "name": "stdout",
     "output_type": "stream",
     "text": [
      "What is art ?\n",
      "\n",
      "An art is a\n"
     ]
    }
   ],
   "source": [
    "print(res[0]['generated_text'])"
   ]
  },
  {
   "cell_type": "markdown",
   "id": "58d9afea",
   "metadata": {},
   "source": [
    "<h1> Save output to disc 📜💻✅</h1>"
   ]
  },
  {
   "cell_type": "code",
   "execution_count": 12,
   "id": "bb73dacd",
   "metadata": {},
   "outputs": [],
   "source": [
    "with open ('gpttext.txt','w') as f:\n",
    "    f.writelines(res[0]['generated_text'])"
   ]
  },
  {
   "cell_type": "code",
   "execution_count": null,
   "id": "7fd45a51",
   "metadata": {},
   "outputs": [],
   "source": []
  }
 ],
 "metadata": {
  "kernelspec": {
   "display_name": "Python 3.8.8 64-bit ('anaconda3': virtualenv)",
   "language": "python",
   "name": "python388jvsc74a57bd053721a842308c1086aff6c6bb73186a427ddb2a685843da50b75fc9b86fe401f"
  }
 },
 "nbformat": 4,
 "nbformat_minor": 5
}
